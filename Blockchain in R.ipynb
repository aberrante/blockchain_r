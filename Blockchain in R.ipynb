{
 "cells": [
  {
   "cell_type": "markdown",
   "metadata": {},
   "source": [
    "# Background\n",
    "This is a companion Jupyter notebook of the paper [Introduction to Blockchain](https://papers.ssrn.com/sol3/papers.cfm?abstract_id=3189518), which is available through SSRN. All references are contained in the paper.\n",
    "\n",
    "A live version of the notebook is vailable on [MyBinder.org](https://hub.mybinder.org/user/aberrante-blockchain_r-mq1tq3qk/notebooks/Blockchain%20in%20R.ipynb)."
   ]
  },
  {
   "cell_type": "markdown",
   "metadata": {},
   "source": [
    "# Transactions Through an Electronic Ledger\n",
    "Alice, Bob, and Christie understand that they will need a central electronic ledger to store all transactions. This means that they need a database or just a spreadsheet. In its simplest form their database has just one table with four columns. The first one captures the date and time (`timestamp`), the second one is the person who initiates a transfer of cash (`from_account`), the third one is the person who receives the cash (`to_account`), and the last column contains the amount transfered (`amount`). Each row in this table represents a transaction (i.e., an update in the database) and specifies that on a given day and time, money was transfered from one account to another. \n",
    "\n",
    "In the following paragraphs, we will use R to demonstrate how the exchange among Alice, Bob, and Christie could be enabled through a central electronic ledger. \n",
    "\n",
    "## A Time Stamped Transaction\n",
    "The equivalent of a database table or a spreadsheet in R is a data frame (`data.frame`). With the following example, we create such a data frame that has one line(row) and it captures the time stamped transaction between Alice and Bob.\n"
   ]
  },
  {
   "cell_type": "code",
   "execution_count": 1,
   "metadata": {},
   "outputs": [],
   "source": [
    "txn_example  <- data.frame(timestamp = Sys.time(), \n",
    "                            to_account = 'Alice',\n",
    "                            from_account = 'Bob',\n",
    "                            amount = 900)"
   ]
  },
  {
   "cell_type": "code",
   "execution_count": 2,
   "metadata": {},
   "outputs": [
    {
     "data": {
      "text/html": [
       "<table>\n",
       "<thead><tr><th scope=col>timestamp</th><th scope=col>to_account</th><th scope=col>from_account</th><th scope=col>amount</th></tr></thead>\n",
       "<tbody>\n",
       "\t<tr><td>2018-08-09 20:26:07</td><td>Alice              </td><td>Bob                </td><td>900                </td></tr>\n",
       "</tbody>\n",
       "</table>\n"
      ],
      "text/latex": [
       "\\begin{tabular}{r|llll}\n",
       " timestamp & to\\_account & from\\_account & amount\\\\\n",
       "\\hline\n",
       "\t 2018-08-09 20:26:07 & Alice               & Bob                 & 900                \\\\\n",
       "\\end{tabular}\n"
      ],
      "text/markdown": [
       "\n",
       "timestamp | to_account | from_account | amount | \n",
       "|---|\n",
       "| 2018-08-09 20:26:07 | Alice               | Bob                 | 900                 | \n",
       "\n",
       "\n"
      ],
      "text/plain": [
       "  timestamp           to_account from_account amount\n",
       "1 2018-08-09 20:26:07 Alice      Bob          900   "
      ]
     },
     "metadata": {},
     "output_type": "display_data"
    }
   ],
   "source": [
    "txn_example"
   ]
  },
  {
   "cell_type": "markdown",
   "metadata": {},
   "source": [
    "## A Function to Generate Transactions on Ledger\n",
    "In our database, we want to require that exactly four values describe every transaction: `timestamp`,  `from_account`, `to_account`, and `amount`. For this, we will create a function that takes these inputs to return a well-formed transaction. In addition to creating a data frame, our function can also validate the inputs. In the case below, the function verifies that amount is a numeric value."
   ]
  },
  {
   "cell_type": "code",
   "execution_count": 3,
   "metadata": {},
   "outputs": [],
   "source": [
    "transaction <- function(from_account, to_account, amount) {\n",
    "   if (is.numeric(amount)) {\n",
    "     new_txn <- data.frame(timestamp    = Sys.time(), \n",
    "                           from_account = from_account,\n",
    "                           to_account   = to_account, \n",
    "                           amount       = amount,\n",
    "                           stringsAsFactors = FALSE)\n",
    "     return(new_txn)\n",
    "   } else {\n",
    "     writeLines('Amount must be numeric.')\n",
    "   }\n",
    " }"
   ]
  },
  {
   "cell_type": "markdown",
   "metadata": {},
   "source": [
    "## Genesis Block on Ledger\n",
    "The sequence of transactions starts with Bob's payment to Alice. However for this to be possible Bob will need to own funds before making a payment to Alice. We will do this by creating an original transaction in which initial funds are distributed to him.  When a blockchain is first initialized, one such transaction exists, and it is contained in the first block, called the *Genesis Block*.\n",
    "The Genesis Block does not follow any other transaction since it is the first one in the chain of transactions. With the following script, we use the function `transaction` to create the genesis block, and name it `ldgr_txn_genesis`. We initiate our `ledger` by assigning the `ldgr_txn_genesis`."
   ]
  },
  {
   "cell_type": "code",
   "execution_count": 4,
   "metadata": {},
   "outputs": [
    {
     "data": {
      "text/html": [
       "<table>\n",
       "<thead><tr><th scope=col>timestamp</th><th scope=col>from_account</th><th scope=col>to_account</th><th scope=col>amount</th></tr></thead>\n",
       "<tbody>\n",
       "\t<tr><td>2018-08-09 20:26:07</td><td>Genesis Endowment  </td><td>Bob                </td><td>2000               </td></tr>\n",
       "</tbody>\n",
       "</table>\n"
      ],
      "text/latex": [
       "\\begin{tabular}{r|llll}\n",
       " timestamp & from\\_account & to\\_account & amount\\\\\n",
       "\\hline\n",
       "\t 2018-08-09 20:26:07 & Genesis Endowment   & Bob                 & 2000               \\\\\n",
       "\\end{tabular}\n"
      ],
      "text/markdown": [
       "\n",
       "timestamp | from_account | to_account | amount | \n",
       "|---|\n",
       "| 2018-08-09 20:26:07 | Genesis Endowment   | Bob                 | 2000                | \n",
       "\n",
       "\n"
      ],
      "text/plain": [
       "  timestamp           from_account      to_account amount\n",
       "1 2018-08-09 20:26:07 Genesis Endowment Bob        2000  "
      ]
     },
     "metadata": {},
     "output_type": "display_data"
    }
   ],
   "source": [
    "ldgr_txn_genesis <- transaction(\n",
    "    from_account = 'Genesis Endowment',\n",
    "    to_account = 'Bob',\n",
    "    amount = 2000)\n",
    "ledger <- ldgr_txn_genesis\n",
    "ledger"
   ]
  },
  {
   "cell_type": "markdown",
   "metadata": {},
   "source": [
    "## Account Balances on Ledger\n",
    "Querying the electronic ledger, we can establish the total amount of deposits in an account, the total withdrawals, and the resulting balance. Before we add new transaction to the `ledger`, such as Bob payment to Alice for the purchase of the car, we need verify  that there are sufficient funds in his account. The following function `get_balance_ldgr` is designed to perform this task."
   ]
  },
  {
   "cell_type": "code",
   "execution_count": 5,
   "metadata": {},
   "outputs": [],
   "source": [
    "get_balance_ldgr <- function(ledger, account) {\n",
    "   deposits <- ledger[ledger$to_account == account, 'amount']\n",
    "   total_deposits <- sum(deposits, na.rm = TRUE)\n",
    "   \n",
    "   withdrawls <- ledger[ledger$from_account == account, 'amount']\n",
    "   total_withdrawls <- sum(withdrawls, na.rm = TRUE)\n",
    "   \n",
    "   #Return the balance\n",
    "   balance <- unlist(total_deposits - total_withdrawls)\n",
    "   return(balance)\n",
    " }"
   ]
  },
  {
   "cell_type": "markdown",
   "metadata": {},
   "source": [
    "Use the function to check the balance in Bob's account before he buys the car from Alice."
   ]
  },
  {
   "cell_type": "code",
   "execution_count": 6,
   "metadata": {},
   "outputs": [
    {
     "data": {
      "text/html": [
       "2000"
      ],
      "text/latex": [
       "2000"
      ],
      "text/markdown": [
       "2000"
      ],
      "text/plain": [
       "[1] 2000"
      ]
     },
     "metadata": {},
     "output_type": "display_data"
    }
   ],
   "source": [
    "get_balance_ldgr(ldgr_txn_genesis, 'Bob')"
   ]
  },
  {
   "cell_type": "markdown",
   "metadata": {},
   "source": [
    "Given that the balance is higher than the amount that he wants to transfer, the transaction with Alice is approved."
   ]
  },
  {
   "cell_type": "code",
   "execution_count": 7,
   "metadata": {},
   "outputs": [
    {
     "data": {
      "text/html": [
       "<table>\n",
       "<thead><tr><th scope=col>timestamp</th><th scope=col>from_account</th><th scope=col>to_account</th><th scope=col>amount</th></tr></thead>\n",
       "<tbody>\n",
       "\t<tr><td>2018-08-09 20:26:07</td><td>Bob                </td><td>Alice              </td><td>900                </td></tr>\n",
       "</tbody>\n",
       "</table>\n"
      ],
      "text/latex": [
       "\\begin{tabular}{r|llll}\n",
       " timestamp & from\\_account & to\\_account & amount\\\\\n",
       "\\hline\n",
       "\t 2018-08-09 20:26:07 & Bob                 & Alice               & 900                \\\\\n",
       "\\end{tabular}\n"
      ],
      "text/markdown": [
       "\n",
       "timestamp | from_account | to_account | amount | \n",
       "|---|\n",
       "| 2018-08-09 20:26:07 | Bob                 | Alice               | 900                 | \n",
       "\n",
       "\n"
      ],
      "text/plain": [
       "  timestamp           from_account to_account amount\n",
       "1 2018-08-09 20:26:07 Bob          Alice      900   "
      ]
     },
     "metadata": {},
     "output_type": "display_data"
    }
   ],
   "source": [
    "ldgr_txn_bob2alice <- transaction(\n",
    "    from_account = 'Bob', \n",
    "    to_account = 'Alice', \n",
    "    amount = 900)\n",
    "ldgr_txn_bob2alice"
   ]
  },
  {
   "cell_type": "markdown",
   "metadata": {},
   "source": [
    "# Create a Block on Ledger\n",
    "In a blockchain, multiple transactions are packaged together to form a *block*. To generate a similar scenario with our ledger, we group transactions using `rbind` to create a single data frame that collects two transactions. Given that we used a function that enforces the shape of the data frames, we know that `rbind` will receive consistent data frames that can be joined together without errors.\n",
    "\n",
    "With the following script we update the ledger to include the new transaction, and review the content of the `ledger`."
   ]
  },
  {
   "cell_type": "code",
   "execution_count": 8,
   "metadata": {},
   "outputs": [
    {
     "data": {
      "text/html": [
       "<table>\n",
       "<thead><tr><th scope=col>timestamp</th><th scope=col>from_account</th><th scope=col>to_account</th><th scope=col>amount</th></tr></thead>\n",
       "<tbody>\n",
       "\t<tr><td>2018-08-09 20:26:07</td><td>Genesis Endowment  </td><td>Bob                </td><td>2000               </td></tr>\n",
       "\t<tr><td>2018-08-09 20:26:07</td><td>Bob                </td><td>Alice              </td><td> 900               </td></tr>\n",
       "</tbody>\n",
       "</table>\n"
      ],
      "text/latex": [
       "\\begin{tabular}{r|llll}\n",
       " timestamp & from\\_account & to\\_account & amount\\\\\n",
       "\\hline\n",
       "\t 2018-08-09 20:26:07 & Genesis Endowment   & Bob                 & 2000               \\\\\n",
       "\t 2018-08-09 20:26:07 & Bob                 & Alice               &  900               \\\\\n",
       "\\end{tabular}\n"
      ],
      "text/markdown": [
       "\n",
       "timestamp | from_account | to_account | amount | \n",
       "|---|---|\n",
       "| 2018-08-09 20:26:07 | Genesis Endowment   | Bob                 | 2000                | \n",
       "| 2018-08-09 20:26:07 | Bob                 | Alice               |  900                | \n",
       "\n",
       "\n"
      ],
      "text/plain": [
       "  timestamp           from_account      to_account amount\n",
       "1 2018-08-09 20:26:07 Genesis Endowment Bob        2000  \n",
       "2 2018-08-09 20:26:07 Bob               Alice       900  "
      ]
     },
     "metadata": {},
     "output_type": "display_data"
    }
   ],
   "source": [
    "ledger <- rbind(ledger, ldgr_txn_bob2alice)\n",
    "ledger"
   ]
  },
  {
   "cell_type": "code",
   "execution_count": 9,
   "metadata": {},
   "outputs": [
    {
     "data": {
      "text/html": [
       "900"
      ],
      "text/latex": [
       "900"
      ],
      "text/markdown": [
       "900"
      ],
      "text/plain": [
       "[1] 900"
      ]
     },
     "metadata": {},
     "output_type": "display_data"
    },
    {
     "data": {
      "text/html": [
       "1100"
      ],
      "text/latex": [
       "1100"
      ],
      "text/markdown": [
       "1100"
      ],
      "text/plain": [
       "[1] 1100"
      ]
     },
     "metadata": {},
     "output_type": "display_data"
    }
   ],
   "source": [
    "get_balance_ldgr(ledger, 'Alice')\n",
    "get_balance_ldgr(ledger, 'Bob')"
   ]
  },
  {
   "cell_type": "markdown",
   "metadata": {},
   "source": [
    "Are there sufficient funds in Alice's account to allow a 300 transfer to Christie? If yes, we can approve the following transaction, update the ledger, and generate account balances as follows:"
   ]
  },
  {
   "cell_type": "code",
   "execution_count": 10,
   "metadata": {},
   "outputs": [],
   "source": [
    "ldgr_txn_alice2christie <- transaction(\n",
    "    from_account = 'Alice', \n",
    "    to_account = 'Christie', \n",
    "    amount = 300)"
   ]
  },
  {
   "cell_type": "code",
   "execution_count": 11,
   "metadata": {},
   "outputs": [
    {
     "data": {
      "text/html": [
       "<table>\n",
       "<thead><tr><th scope=col>timestamp</th><th scope=col>from_account</th><th scope=col>to_account</th><th scope=col>amount</th></tr></thead>\n",
       "<tbody>\n",
       "\t<tr><td>2018-08-09 20:26:07</td><td>Genesis Endowment  </td><td>Bob                </td><td>2000               </td></tr>\n",
       "\t<tr><td>2018-08-09 20:26:07</td><td>Bob                </td><td>Alice              </td><td> 900               </td></tr>\n",
       "\t<tr><td>2018-08-09 20:26:08</td><td>Alice              </td><td>Christie           </td><td> 300               </td></tr>\n",
       "</tbody>\n",
       "</table>\n"
      ],
      "text/latex": [
       "\\begin{tabular}{r|llll}\n",
       " timestamp & from\\_account & to\\_account & amount\\\\\n",
       "\\hline\n",
       "\t 2018-08-09 20:26:07 & Genesis Endowment   & Bob                 & 2000               \\\\\n",
       "\t 2018-08-09 20:26:07 & Bob                 & Alice               &  900               \\\\\n",
       "\t 2018-08-09 20:26:08 & Alice               & Christie            &  300               \\\\\n",
       "\\end{tabular}\n"
      ],
      "text/markdown": [
       "\n",
       "timestamp | from_account | to_account | amount | \n",
       "|---|---|---|\n",
       "| 2018-08-09 20:26:07 | Genesis Endowment   | Bob                 | 2000                | \n",
       "| 2018-08-09 20:26:07 | Bob                 | Alice               |  900                | \n",
       "| 2018-08-09 20:26:08 | Alice               | Christie            |  300                | \n",
       "\n",
       "\n"
      ],
      "text/plain": [
       "  timestamp           from_account      to_account amount\n",
       "1 2018-08-09 20:26:07 Genesis Endowment Bob        2000  \n",
       "2 2018-08-09 20:26:07 Bob               Alice       900  \n",
       "3 2018-08-09 20:26:08 Alice             Christie    300  "
      ]
     },
     "metadata": {},
     "output_type": "display_data"
    }
   ],
   "source": [
    "ledger <- rbind(ledger, ldgr_txn_alice2christie)\n",
    "ledger"
   ]
  },
  {
   "cell_type": "code",
   "execution_count": 12,
   "metadata": {},
   "outputs": [
    {
     "data": {
      "text/html": [
       "600"
      ],
      "text/latex": [
       "600"
      ],
      "text/markdown": [
       "600"
      ],
      "text/plain": [
       "[1] 600"
      ]
     },
     "metadata": {},
     "output_type": "display_data"
    },
    {
     "data": {
      "text/html": [
       "1100"
      ],
      "text/latex": [
       "1100"
      ],
      "text/markdown": [
       "1100"
      ],
      "text/plain": [
       "[1] 1100"
      ]
     },
     "metadata": {},
     "output_type": "display_data"
    },
    {
     "data": {
      "text/html": [
       "300"
      ],
      "text/latex": [
       "300"
      ],
      "text/markdown": [
       "300"
      ],
      "text/plain": [
       "[1] 300"
      ]
     },
     "metadata": {},
     "output_type": "display_data"
    }
   ],
   "source": [
    "get_balance_ldgr(ledger, 'Alice')\n",
    "get_balance_ldgr(ledger, 'Bob')\n",
    "get_balance_ldgr(ledger, 'Christie')"
   ]
  },
  {
   "cell_type": "markdown",
   "metadata": {},
   "source": [
    "## Practice Problem\n",
    "Add a new transaction in which Bob wants to transfer 500 to David."
   ]
  },
  {
   "cell_type": "code",
   "execution_count": 13,
   "metadata": {},
   "outputs": [],
   "source": [
    "# Enter your answer here.\n",
    "\n"
   ]
  },
  {
   "cell_type": "markdown",
   "metadata": {},
   "source": [
    "# Transactions Through Blockchain\n",
    "While transactions through a central electronic ledger have shown that it is possible to have cash-less transactions, one of the original issues remains. We still need a trusted third-part to maintain the single copy of the ledger (database). The most common scenario is that a bank is the trusted third-party and keeper of the ledger. However, this trust in the financial system was challenged during the financial crisis. This problem can be resolved by providing all participants with a copy of the ledger (hence, the term *distributed ledger*)\n",
    "\n",
    "However, this solution solves a problem (i.e., need for trusted third party) by creating a new one (i.e., how to update and achieve a consistent distribution of the ledger across all network participants). In the case of a central ledger, a single  entity has been trusted with the task of maintaining the ledger. In the case of a distributed ledger, each network participant plays a role in making sure that the ledger is properly updated. Therefore, to the extent that blockchain provides a solution to this problem, blockchain is a technology for shared databases.\n",
    "\n",
    "In blockchain when a new transaction is entered, it is not immediately retransmitted across the network. Instead, transactions are grouped and packaged into blocks. When a block reaches a certain size, then it is transmitted to the rest of the network. Each block contains timestamped transactions, the previous block's hash and a proof of work. As we will see in the following paragraphs, it is through this process that blockchain provides a robust solution to the shared database problem."
   ]
  },
  {
   "cell_type": "markdown",
   "metadata": {},
   "source": [
    "## Blockchain Genesis Block\n",
    "To enable subsequent transaction, a blockchain will need to start with an initial distribution of money (*genesis block*). To maintain consistency with our central ledger example, we create such a block that endows Bob with 2000. The main difference between the genesis block on ledger and the one on blockchain is that the latter contains a hash and a proof of work.  Notice that the initial hash and proof of work are set to `NULL` and zero respectively."
   ]
  },
  {
   "cell_type": "code",
   "execution_count": 14,
   "metadata": {},
   "outputs": [],
   "source": [
    "genesis_block <- list(\n",
    "    transactions = transaction(\n",
    "        from_account = 'Genesis Endownment',\n",
    "        to_account = 'Bob', \n",
    "        amount = 2000),\n",
    "    prev_hash = NULL,\n",
    "    proof_of_work = 0)"
   ]
  },
  {
   "cell_type": "markdown",
   "metadata": {},
   "source": [
    "We initiate our blockchain, i.e., create the first block, by simply adding the genesis block. In our example, we assume that each block is equal to one transaction. This is an over-simplification that allows us to focus on the general concepts that we want to introduce. This means that the initial `blockchain` is  just the `genesis_block`."
   ]
  },
  {
   "cell_type": "code",
   "execution_count": 15,
   "metadata": {},
   "outputs": [
    {
     "data": {
      "text/html": [
       "<ol>\n",
       "\t<li><dl>\n",
       "\t<dt>$transactions</dt>\n",
       "\t\t<dd><table>\n",
       "<thead><tr><th scope=col>timestamp</th><th scope=col>from_account</th><th scope=col>to_account</th><th scope=col>amount</th></tr></thead>\n",
       "<tbody>\n",
       "\t<tr><td>2018-08-09 20:26:08</td><td>Genesis Endownment </td><td>Bob                </td><td>2000               </td></tr>\n",
       "</tbody>\n",
       "</table>\n",
       "</dd>\n",
       "\t<dt>$prev_hash</dt>\n",
       "\t\t<dd>NULL</dd>\n",
       "\t<dt>$proof_of_work</dt>\n",
       "\t\t<dd>0</dd>\n",
       "</dl>\n",
       "</li>\n",
       "</ol>\n"
      ],
      "text/latex": [
       "\\begin{enumerate}\n",
       "\\item \\begin{description}\n",
       "\\item[\\$transactions] \\begin{tabular}{r|llll}\n",
       " timestamp & from\\_account & to\\_account & amount\\\\\n",
       "\\hline\n",
       "\t 2018-08-09 20:26:08 & Genesis Endownment  & Bob                 & 2000               \\\\\n",
       "\\end{tabular}\n",
       "\n",
       "\\item[\\$prev\\_hash] NULL\n",
       "\\item[\\$proof\\_of\\_work] 0\n",
       "\\end{description}\n",
       "\n",
       "\\end{enumerate}\n"
      ],
      "text/markdown": [
       "1. $transactions\n",
       ":   \n",
       "timestamp | from_account | to_account | amount | \n",
       "|---|\n",
       "| 2018-08-09 20:26:08 | Genesis Endownment  | Bob                 | 2000                | \n",
       "\n",
       "\n",
       "\n",
       "$prev_hash\n",
       ":   NULL\n",
       "$proof_of_work\n",
       ":   0\n",
       "\n",
       "\n",
       "\n",
       "\n",
       "\n"
      ],
      "text/plain": [
       "[[1]]\n",
       "[[1]]$transactions\n",
       "            timestamp       from_account to_account amount\n",
       "1 2018-08-09 20:26:08 Genesis Endownment        Bob   2000\n",
       "\n",
       "[[1]]$prev_hash\n",
       "NULL\n",
       "\n",
       "[[1]]$proof_of_work\n",
       "[1] 0\n",
       "\n"
      ]
     },
     "metadata": {},
     "output_type": "display_data"
    }
   ],
   "source": [
    "blockchain <- list(genesis_block)\n",
    "blockchain"
   ]
  },
  {
   "cell_type": "markdown",
   "metadata": {},
   "source": [
    "Subsequent transactions, such as the transaction between Alice and Bob, will form another block which will be attached to the `genesis_block` in order to form the second block of the blockchain. The transaction of Alice and Christie will form the third block, and so on."
   ]
  },
  {
   "cell_type": "markdown",
   "metadata": {},
   "source": [
    "# Hash Function\n",
    "In blockchain we need a method for blocks to chain together. To ensure this, we will embed information in the blocks such that their order is maintained. For this purpose, we will use a hash function. In cooking, to hash is to break ingredients apart and put them back together, as in making hash brown out of shredded potatoes. A hash function does something similar. It takes a value and maps it to another, ideally random, value.\n",
    "\n",
    "In R, hash functions are contained in the package `digest`. In our application, we will use the SHA 256 algorithm. To do so, we can use the digest function, specifying the hash algorithm after the string that we want to hash."
   ]
  },
  {
   "cell_type": "code",
   "execution_count": 16,
   "metadata": {},
   "outputs": [
    {
     "data": {
      "text/html": [
       "'351efb5a0bc748f203667a09aa40278b165f5a50742af3dbc1b7077c6293010b'"
      ],
      "text/latex": [
       "'351efb5a0bc748f203667a09aa40278b165f5a50742af3dbc1b7077c6293010b'"
      ],
      "text/markdown": [
       "'351efb5a0bc748f203667a09aa40278b165f5a50742af3dbc1b7077c6293010b'"
      ],
      "text/plain": [
       "[1] \"351efb5a0bc748f203667a09aa40278b165f5a50742af3dbc1b7077c6293010b\""
      ]
     },
     "metadata": {},
     "output_type": "display_data"
    }
   ],
   "source": [
    "library(digest)\n",
    "digest('banana', 'sha256')"
   ]
  },
  {
   "cell_type": "markdown",
   "metadata": {},
   "source": [
    "There are two features to notice about hash functions: First, the hash value (the value returned by the hash function) is of equal length; in this case, it is 64 characters long. Second, small variations to the inputs produce significant variations to the output. In the following example, we have changed the input from singular (banana) to plural (bananas) and from all lower case (banana) to capitalized first letter (Banana). These small changes produce completely different hash values."
   ]
  },
  {
   "cell_type": "code",
   "execution_count": 17,
   "metadata": {},
   "outputs": [
    {
     "data": {
      "text/html": [
       "'4e1f38b2d451a926f42ef1d113191511d64b0e21abace8c326fadba069e66ceb'"
      ],
      "text/latex": [
       "'4e1f38b2d451a926f42ef1d113191511d64b0e21abace8c326fadba069e66ceb'"
      ],
      "text/markdown": [
       "'4e1f38b2d451a926f42ef1d113191511d64b0e21abace8c326fadba069e66ceb'"
      ],
      "text/plain": [
       "[1] \"4e1f38b2d451a926f42ef1d113191511d64b0e21abace8c326fadba069e66ceb\""
      ]
     },
     "metadata": {},
     "output_type": "display_data"
    },
    {
     "data": {
      "text/html": [
       "'ccf7cfc9a77949ec93a44f51a5f943a02d6aefbc115b8b6c867a9101da0a46df'"
      ],
      "text/latex": [
       "'ccf7cfc9a77949ec93a44f51a5f943a02d6aefbc115b8b6c867a9101da0a46df'"
      ],
      "text/markdown": [
       "'ccf7cfc9a77949ec93a44f51a5f943a02d6aefbc115b8b6c867a9101da0a46df'"
      ],
      "text/plain": [
       "[1] \"ccf7cfc9a77949ec93a44f51a5f943a02d6aefbc115b8b6c867a9101da0a46df\""
      ]
     },
     "metadata": {},
     "output_type": "display_data"
    }
   ],
   "source": [
    "digest('bananas', 'sha256')\n",
    "digest('Banana', 'sha256')"
   ]
  },
  {
   "cell_type": "markdown",
   "metadata": {},
   "source": [
    "Random (or pseudo-random) mapping is essential so that clusters of similar initial values are mapped to ending values that are distinct and do not coincide nor look alike \\parencite{knuth_art_1998}. This type of randomness is important since we require a function that is not easily invertible. If the function were invertible, then one would be able to obtain the original value from the ending value.\n",
    "\n",
    "The randomness of hash values allows us to view them as if they were fingerprints of blocks of transactions. Given that they are of a given length, 64 characters in our case, we can map a block of arbitrary size to its fingerprint, which is a hash of fixed size."
   ]
  },
  {
   "cell_type": "markdown",
   "metadata": {},
   "source": [
    "# Hashing the Genesis Block\n",
    "Using the function `digest` and the `genesis_block` as input, we can create the hash value `genesis_hash` of the `genesis_block` as follows:"
   ]
  },
  {
   "cell_type": "code",
   "execution_count": 18,
   "metadata": {},
   "outputs": [
    {
     "data": {
      "text/html": [
       "'0d56153bd4db29ec35463cd746bf840a2d26569b5bdb2aa26f677fac14511928'"
      ],
      "text/latex": [
       "'0d56153bd4db29ec35463cd746bf840a2d26569b5bdb2aa26f677fac14511928'"
      ],
      "text/markdown": [
       "'0d56153bd4db29ec35463cd746bf840a2d26569b5bdb2aa26f677fac14511928'"
      ],
      "text/plain": [
       "[1] \"0d56153bd4db29ec35463cd746bf840a2d26569b5bdb2aa26f677fac14511928\""
      ]
     },
     "metadata": {},
     "output_type": "display_data"
    }
   ],
   "source": [
    "genesis_hash <- digest(genesis_block, 'sha256')\n",
    "genesis_hash"
   ]
  },
  {
   "cell_type": "markdown",
   "metadata": {},
   "source": [
    "# Practice Problem\n",
    "Will the output of the `genesis_hash` remain the same if we were to re-run the above sequence of commands?\n",
    "\n",
    "1. `genesis_block`\n",
    "2. `blockchain`\n",
    "3. `genesis_hash`\n",
    "\n",
    "Explain why."
   ]
  },
  {
   "cell_type": "markdown",
   "metadata": {},
   "source": [
    "# Proof of Work and Validation\n",
    "Proof of work and validation/verification play a very important role. They ensure that the blockchain, which is visible/transparent to all participants, is also virtually immutable. The proof of work  is just evidence that some computation has occurred. The computation must be hard in the sense that it takes time for it to be done, but it must be easy to verify.\n",
    "\n",
    "Blockchain uses hash functions to implement the validation and proof of work. We know that a hash function is not invertible, so the only way to figure out which input value will give us a hash value with specific characteristics is to guess. In the case  of blockchain, we  seek hash values that have three trailing zeros. This means that the proof of work will take the proof of work from the genesis block and try to append to it a new number. The hash of the combined number should end in three zeros. "
   ]
  },
  {
   "cell_type": "markdown",
   "metadata": {},
   "source": [
    "# Validation Function with R\n",
    "Assuming that the proof of work has already been done, the verification will take the proof of work from the previous block, append the proposed proof of work and verify that the hash of the resulting string ends with ‘000’. In R we create a new function named \\textit{is_valid_proof} that will automate the proposed process as follows:"
   ]
  },
  {
   "cell_type": "code",
   "execution_count": 19,
   "metadata": {},
   "outputs": [],
   "source": [
    "is_valid_proof <- function(last_proof, this_proof){\n",
    "   guess = paste0(last_proof, this_proof)\n",
    "   guess_hash = digest(guess, 'sha256')\n",
    "   test = grepl('0{3}$', guess_hash)\n",
    "   return(test)\n",
    "}"
   ]
  },
  {
   "cell_type": "markdown",
   "metadata": {},
   "source": [
    "The function as a whole, takes the previous proof of work (`last_proof`) and a proposed proof of work (`this_proof`), concatenates them, hashes the resulting value and verifies whether it ends with three zeros. Lets take a closer look at each step in this function.\n",
    "\n",
    "1. Create a new variable called `guess`. The new variable is created by concatenating the previous proof of work ('last_proof') and a proposed proof of work (`this_proof`). In R, we use the function `paste0` to concatenate strings. For example, `paste0('apple', 'wood')` will result in `applewood`.\n",
    "2. Create a new variable called `guess_hash`. The variable guess_hash uses the function digest to generate the hash value of the variable `guess`.\n",
    "3. Create a variable called `test` which takes the value `TRUE` or `FALSE`.\n",
    "    + Use the command `grepl` to verify if a certain pattern appears in a string by using regular expressions. In particular, the term `0{3}$` means that we are searching for a specific pattern `(0)`, we want this pattern to appear three times `{3}`, and we want this sequence of three zeros to appear at the end of the string of characters (`$`). \n",
    "    + The command `grepl` returns the value `TRUE` if the specified pattern appears in the string. Else, it returns the value of `FALSE`.\n",
    "    \n",
    "    \n",
    "4. The function ends by returning the value of the variable `test`.\n",
    "\n",
    "With this function, we can now construct another function that will search for a proof of work by guessing. "
   ]
  },
  {
   "cell_type": "markdown",
   "metadata": {},
   "source": [
    "# Proof of Work Function with R\n",
    "The aim of proof of work is to find a new number that has the following property. If we create a string by concatenating the `last_proof` and this new number, the hash value of this string should end with three zeros.\n",
    "\n",
    "The following R function (`proof_of_work`), starts by creating a new variable (`candidate_proof`) and assigns an arbitrary value, in this case, 0. Test this suggested proof using the function `is_valid_proof`. If it passes, then return the value of `candidate_proof`. If it does not pass the test, then add one to `candidate_proof` and repeat until it passes the validity test."
   ]
  },
  {
   "cell_type": "code",
   "execution_count": 20,
   "metadata": {},
   "outputs": [],
   "source": [
    "proof_of_work <- function(last_proof) {\n",
    "   candidate_proof <- 0\n",
    "   while(!is_valid_proof(last_proof, candidate_proof)) {\n",
    "     candidate_proof <- candidate_proof + 1\n",
    "   }\n",
    "   return(candidate_proof)\n",
    " }"
   ]
  },
  {
   "cell_type": "markdown",
   "metadata": {},
   "source": [
    "With the line `while(!is_valid_proof(last_proof,  candidate_proof))`, we  instruct R to repeat the commands that follow while the condition between brackets is true. This line could be read as \"repeat while the candidate proof is not valid,\" bearing in mind that `!` means *not* in R.\n",
    "\n",
    "Using this function, we can search for a valid proof of work for the genesis block.\n"
   ]
  },
  {
   "cell_type": "code",
   "execution_count": 21,
   "metadata": {},
   "outputs": [
    {
     "data": {
      "text/html": [
       "7975"
      ],
      "text/latex": [
       "7975"
      ],
      "text/markdown": [
       "7975"
      ],
      "text/plain": [
       "[1] 7975"
      ]
     },
     "metadata": {},
     "output_type": "display_data"
    }
   ],
   "source": [
    "genesis_proof <- proof_of_work(genesis_block[['proof_of_work']])\n",
    "genesis_proof"
   ]
  },
  {
   "cell_type": "markdown",
   "metadata": {},
   "source": [
    "The suggested proof is 7975. This means that if we take the previous proof of work (`last_proof`=0) and a proposed proof of work (`this_proof`=7975), concatenate them and hash the string, the resulting value must end with three zeros. In other words the function `is_valid_proof` should return the value `TRUE`."
   ]
  },
  {
   "cell_type": "code",
   "execution_count": 22,
   "metadata": {},
   "outputs": [
    {
     "data": {
      "text/html": [
       "TRUE"
      ],
      "text/latex": [
       "TRUE"
      ],
      "text/markdown": [
       "TRUE"
      ],
      "text/plain": [
       "[1] TRUE"
      ]
     },
     "metadata": {},
     "output_type": "display_data"
    }
   ],
   "source": [
    "is_valid_proof(0,7975)"
   ]
  },
  {
   "cell_type": "markdown",
   "metadata": {},
   "source": [
    "We can further verify this by running the `digest` function on the concatenated values and see that the resulting hash value ends with three zeros."
   ]
  },
  {
   "cell_type": "code",
   "execution_count": 23,
   "metadata": {},
   "outputs": [
    {
     "data": {
      "text/html": [
       "'f5433606f97f30af6055426e9545dab58d278913736e239690bdab78363ff000'"
      ],
      "text/latex": [
       "'f5433606f97f30af6055426e9545dab58d278913736e239690bdab78363ff000'"
      ],
      "text/markdown": [
       "'f5433606f97f30af6055426e9545dab58d278913736e239690bdab78363ff000'"
      ],
      "text/plain": [
       "[1] \"f5433606f97f30af6055426e9545dab58d278913736e239690bdab78363ff000\""
      ]
     },
     "metadata": {},
     "output_type": "display_data"
    }
   ],
   "source": [
    "digest(paste0(0,7975), 'sha256')"
   ]
  },
  {
   "cell_type": "markdown",
   "metadata": {},
   "source": [
    "# Practice Problem\n",
    "We can estimate the amount of time (system time) it takes to generate the proof of work of the genesis block as follows:"
   ]
  },
  {
   "cell_type": "code",
   "execution_count": 24,
   "metadata": {},
   "outputs": [
    {
     "data": {
      "text/plain": [
       "   user  system elapsed \n",
       "  4.068   0.000   4.080 "
      ]
     },
     "metadata": {},
     "output_type": "display_data"
    }
   ],
   "source": [
    "system.time(proof_of_work(genesis_block[['proof_of_work']]))"
   ]
  },
  {
   "cell_type": "markdown",
   "metadata": {},
   "source": [
    "Change the number of zeros in the R validation function (`is_valid_proof}`) from three to four.\n",
    "\n",
    "+ Run the proof of work on the genesis block with the updated requirements, and estimate the system time.\n",
    "+ How does it compare to the one above?"
   ]
  },
  {
   "cell_type": "markdown",
   "metadata": {},
   "source": [
    "# Account Balance on Blockchain\n",
    "Before we can add a new transaction (Bob's payment to Alice) in the blockchain, we need to verify that Bob has enough money in his account to make the payment. With the following script, we create an R function (`get_balance`) that will `automate' this task."
   ]
  },
  {
   "cell_type": "code",
   "execution_count": 25,
   "metadata": {},
   "outputs": [],
   "source": [
    "get_balance <- function(bchain, account) {\n",
    "   ldgr_txns <- data.frame()    \n",
    "   for (k in 1:length(bchain)) {\n",
    "     ldgr_txns <- rbind(ldgr_txns, bchain[[k]][['transactions']])\n",
    "   }   \n",
    "   balance <- get_balance_ldgr(ldgr_txns, account) \n",
    "   return(balance)\n",
    " }"
   ]
  },
  {
   "cell_type": "markdown",
   "metadata": {},
   "source": [
    "The function contains/performs the following steps:\n",
    "\n",
    "+ Create a new empty data frame named `ldgr_txns`\n",
    "+ Traverse the blockchain a block at a time (`for (k in 1:length(bchain))`), and \n",
    "\n",
    "    - append (`rbind`) each block's transaction to the data frame (`ldgr_txns`}\n",
    "    - `bchain[[k]]` is the kth block. Remember that each block is a list.\n",
    "    - `bchain[[k]][['transactions']]` specifies/extracts the transactions data frame.\n",
    "    \n",
    "+ Use the previous function `get\\_balance\\_ldgr` to calculate the balance of the specified account name. "
   ]
  },
  {
   "cell_type": "code",
   "execution_count": 26,
   "metadata": {},
   "outputs": [
    {
     "data": {
      "text/html": [
       "2000"
      ],
      "text/latex": [
       "2000"
      ],
      "text/markdown": [
       "2000"
      ],
      "text/plain": [
       "[1] 2000"
      ]
     },
     "metadata": {},
     "output_type": "display_data"
    }
   ],
   "source": [
    "get_balance(blockchain, 'Bob')"
   ]
  },
  {
   "cell_type": "markdown",
   "metadata": {},
   "source": [
    "Given the fact that his balance (2,000) exceeds the amount of payment (900), we prepare the transaction that would transfer money from Bob's account to Alice's account."
   ]
  },
  {
   "cell_type": "code",
   "execution_count": 27,
   "metadata": {},
   "outputs": [],
   "source": [
    "txn_bob <- transaction(\n",
    "    from_account = 'Bob', \n",
    "    to_account = 'Alice', \n",
    "    amount = 900)"
   ]
  },
  {
   "cell_type": "markdown",
   "metadata": {},
   "source": [
    "# Create and Add New Block to Blockchain\n",
    "Blockchain as the name indicates is a chain of blocks. The addition of a new block in the chain involves two stages. First, we need to create the block. Second, if the block is valid, add it to the blockchain that will be accepted by all members of the network."
   ]
  },
  {
   "cell_type": "markdown",
   "metadata": {},
   "source": [
    "## Create a New Block\n",
    "Since in our simplified version each transaction is a block, we prepare a function to add to create a new block as follows:"
   ]
  },
  {
   "cell_type": "code",
   "execution_count": 28,
   "metadata": {},
   "outputs": [],
   "source": [
    "create_block <- function(txns, prev_hash = NULL, proof_of_work = NULL) {\n",
    "    new_block <- list(\n",
    "        transactions = txns,\n",
    "        prev_hash = prev_hash,\n",
    "        proof_of_work   = proof_of_work)\n",
    "    return(new_block)\n",
    "}"
   ]
  },
  {
   "cell_type": "markdown",
   "metadata": {},
   "source": [
    "Assuming that the blockchain has been created with a genesis block, to add the new block we will have to perform the following tasks:\n",
    "\n",
    "1. One or more transactions are packed into a block by one of the the network participants that holds a copy of the blockchain (nodes)."
   ]
  },
  {
   "cell_type": "code",
   "execution_count": 29,
   "metadata": {},
   "outputs": [],
   "source": [
    "second_block <- create_block(\n",
    "    txns = txn_bob, \n",
    "    prev_hash = genesis_hash,\n",
    "    proof_of_work = genesis_proof)"
   ]
  },
  {
   "cell_type": "markdown",
   "metadata": {},
   "source": [
    "2. The block, which includes the proof of work and the hash of the previous block (i.e., the genesis block in our case), is transmitted to the rest of the network.\n",
    "3. The network participants validate the block. This includes:\n",
    "\n",
    "    + Verify that the proof of work is valid using the function `check_proof`.\n",
    "    + Verify that the hash corresponds to the last available block using the function `last_hash`.\n",
    "    + Verify that the accounts have enough funds available to fulfill the transactions and avoid the double-spending problem using the function `acct_balance`.\n",
    "    \n",
    "4. If the block is valid (i.e., all three conditions are met), inform the rest of the network. If the block is not valid, return an error message (i.e., `This block is not valid.`)\n",
    "5. When a consensus is formed, add the block to the blockchain.\n",
    "\n",
    "To automate the new block validation process, we create the following function:"
   ]
  },
  {
   "cell_type": "code",
   "execution_count": 30,
   "metadata": {},
   "outputs": [],
   "source": [
    "add_block_if_valid <- function(bchain, new_block) {\n",
    "   N <- length(bchain)\n",
    "   \n",
    "    check_proof <- \n",
    "        is_valid_proof(blockchain[[N]][['proof_of_work']], \n",
    "                                 new_block[['proof_of_work']])   \n",
    "    last_hash <- digest(blockchain[[N]], 'sha256')\n",
    "    check_hash <- last_hash == new_block[['prev_hash']]  \n",
    "    acct_balance <-  get_balance(blockchain,\n",
    "    new_block[['transactions']][['from_account']])\n",
    "    check_balance <- \n",
    "     acct_balance > new_block[['transactions']][['amount']]   \n",
    "    if (check_proof & check_hash & check_balance) {\n",
    "     bchain[[N+1]] <- new_block\n",
    "    } else {\n",
    "     writeLines('This block is not valid.')\n",
    "    }\n",
    "    return(bchain)\n",
    " }"
   ]
  },
  {
   "cell_type": "markdown",
   "metadata": {},
   "source": [
    "## Update the Blockchain\n",
    "Using the above function, we check whether the block is valid."
   ]
  },
  {
   "cell_type": "code",
   "execution_count": 31,
   "metadata": {},
   "outputs": [],
   "source": [
    "blockchain <- add_block_if_valid(blockchain, second_block)"
   ]
  },
  {
   "cell_type": "markdown",
   "metadata": {},
   "source": [
    "The lack of an error message indicates that the block was valid and it was added to the blockchain. We review the updated content of the blockchain and we observe that the transaction between Alice and Bob has been added."
   ]
  },
  {
   "cell_type": "code",
   "execution_count": 32,
   "metadata": {},
   "outputs": [
    {
     "data": {
      "text/html": [
       "<ol>\n",
       "\t<li><dl>\n",
       "\t<dt>$transactions</dt>\n",
       "\t\t<dd><table>\n",
       "<thead><tr><th scope=col>timestamp</th><th scope=col>from_account</th><th scope=col>to_account</th><th scope=col>amount</th></tr></thead>\n",
       "<tbody>\n",
       "\t<tr><td>2018-08-09 20:26:08</td><td>Genesis Endownment </td><td>Bob                </td><td>2000               </td></tr>\n",
       "</tbody>\n",
       "</table>\n",
       "</dd>\n",
       "\t<dt>$prev_hash</dt>\n",
       "\t\t<dd>NULL</dd>\n",
       "\t<dt>$proof_of_work</dt>\n",
       "\t\t<dd>0</dd>\n",
       "</dl>\n",
       "</li>\n",
       "\t<li><dl>\n",
       "\t<dt>$transactions</dt>\n",
       "\t\t<dd><table>\n",
       "<thead><tr><th scope=col>timestamp</th><th scope=col>from_account</th><th scope=col>to_account</th><th scope=col>amount</th></tr></thead>\n",
       "<tbody>\n",
       "\t<tr><td>2018-08-09 20:26:17</td><td>Bob                </td><td>Alice              </td><td>900                </td></tr>\n",
       "</tbody>\n",
       "</table>\n",
       "</dd>\n",
       "\t<dt>$prev_hash</dt>\n",
       "\t\t<dd>'0d56153bd4db29ec35463cd746bf840a2d26569b5bdb2aa26f677fac14511928'</dd>\n",
       "\t<dt>$proof_of_work</dt>\n",
       "\t\t<dd>7975</dd>\n",
       "</dl>\n",
       "</li>\n",
       "</ol>\n"
      ],
      "text/latex": [
       "\\begin{enumerate}\n",
       "\\item \\begin{description}\n",
       "\\item[\\$transactions] \\begin{tabular}{r|llll}\n",
       " timestamp & from\\_account & to\\_account & amount\\\\\n",
       "\\hline\n",
       "\t 2018-08-09 20:26:08 & Genesis Endownment  & Bob                 & 2000               \\\\\n",
       "\\end{tabular}\n",
       "\n",
       "\\item[\\$prev\\_hash] NULL\n",
       "\\item[\\$proof\\_of\\_work] 0\n",
       "\\end{description}\n",
       "\n",
       "\\item \\begin{description}\n",
       "\\item[\\$transactions] \\begin{tabular}{r|llll}\n",
       " timestamp & from\\_account & to\\_account & amount\\\\\n",
       "\\hline\n",
       "\t 2018-08-09 20:26:17 & Bob                 & Alice               & 900                \\\\\n",
       "\\end{tabular}\n",
       "\n",
       "\\item[\\$prev\\_hash] '0d56153bd4db29ec35463cd746bf840a2d26569b5bdb2aa26f677fac14511928'\n",
       "\\item[\\$proof\\_of\\_work] 7975\n",
       "\\end{description}\n",
       "\n",
       "\\end{enumerate}\n"
      ],
      "text/markdown": [
       "1. $transactions\n",
       ":   \n",
       "timestamp | from_account | to_account | amount | \n",
       "|---|\n",
       "| 2018-08-09 20:26:08 | Genesis Endownment  | Bob                 | 2000                | \n",
       "\n",
       "\n",
       "\n",
       "$prev_hash\n",
       ":   NULL\n",
       "$proof_of_work\n",
       ":   0\n",
       "\n",
       "\n",
       "\n",
       "2. $transactions\n",
       ":   \n",
       "timestamp | from_account | to_account | amount | \n",
       "|---|\n",
       "| 2018-08-09 20:26:17 | Bob                 | Alice               | 900                 | \n",
       "\n",
       "\n",
       "\n",
       "$prev_hash\n",
       ":   '0d56153bd4db29ec35463cd746bf840a2d26569b5bdb2aa26f677fac14511928'\n",
       "$proof_of_work\n",
       ":   7975\n",
       "\n",
       "\n",
       "\n",
       "\n",
       "\n"
      ],
      "text/plain": [
       "[[1]]\n",
       "[[1]]$transactions\n",
       "            timestamp       from_account to_account amount\n",
       "1 2018-08-09 20:26:08 Genesis Endownment        Bob   2000\n",
       "\n",
       "[[1]]$prev_hash\n",
       "NULL\n",
       "\n",
       "[[1]]$proof_of_work\n",
       "[1] 0\n",
       "\n",
       "\n",
       "[[2]]\n",
       "[[2]]$transactions\n",
       "            timestamp from_account to_account amount\n",
       "1 2018-08-09 20:26:17          Bob      Alice    900\n",
       "\n",
       "[[2]]$prev_hash\n",
       "[1] \"0d56153bd4db29ec35463cd746bf840a2d26569b5bdb2aa26f677fac14511928\"\n",
       "\n",
       "[[2]]$proof_of_work\n",
       "[1] 7975\n",
       "\n"
      ]
     },
     "metadata": {},
     "output_type": "display_data"
    }
   ],
   "source": [
    "blockchain"
   ]
  },
  {
   "cell_type": "markdown",
   "metadata": {},
   "source": [
    "## Add a New Block in the Blockchain\n",
    "Recall, that Alice made a payment of 300 to Christie. With the following script we add the new transaction/block to the blockchain and review the updated content of the blockchain.\n",
    "\n",
    "+ Create the new transaction:"
   ]
  },
  {
   "cell_type": "code",
   "execution_count": 33,
   "metadata": {},
   "outputs": [],
   "source": [
    "txn_alice <- transaction(\n",
    "    from_account = 'Alice',\n",
    "    to_account = 'Christie',\n",
    "    amount = 300)"
   ]
  },
  {
   "cell_type": "markdown",
   "metadata": {},
   "source": [
    "+ Create a new block (third block):"
   ]
  },
  {
   "cell_type": "code",
   "execution_count": 34,
   "metadata": {},
   "outputs": [],
   "source": [
    "third_block <- create_block(\n",
    "    txns = txn_alice, \n",
    "    prev_hash = digest(blockchain[[2]], 'sha256'),\n",
    "    proof_of_work = \n",
    "    proof_of_work(blockchain[[2]][['proof_of_work']]))"
   ]
  },
  {
   "cell_type": "markdown",
   "metadata": {},
   "source": [
    "+ Verify that the block is valid. Recall that the function would produce an error message if the block is not valid."
   ]
  },
  {
   "cell_type": "code",
   "execution_count": 35,
   "metadata": {},
   "outputs": [],
   "source": [
    " blockchain <- add_block_if_valid(blockchain, third_block)"
   ]
  },
  {
   "cell_type": "markdown",
   "metadata": {},
   "source": [
    "Review the updated blockchain:"
   ]
  },
  {
   "cell_type": "code",
   "execution_count": 36,
   "metadata": {},
   "outputs": [
    {
     "data": {
      "text/html": [
       "<ol>\n",
       "\t<li><dl>\n",
       "\t<dt>$transactions</dt>\n",
       "\t\t<dd><table>\n",
       "<thead><tr><th scope=col>timestamp</th><th scope=col>from_account</th><th scope=col>to_account</th><th scope=col>amount</th></tr></thead>\n",
       "<tbody>\n",
       "\t<tr><td>2018-08-09 20:26:08</td><td>Genesis Endownment </td><td>Bob                </td><td>2000               </td></tr>\n",
       "</tbody>\n",
       "</table>\n",
       "</dd>\n",
       "\t<dt>$prev_hash</dt>\n",
       "\t\t<dd>NULL</dd>\n",
       "\t<dt>$proof_of_work</dt>\n",
       "\t\t<dd>0</dd>\n",
       "</dl>\n",
       "</li>\n",
       "\t<li><dl>\n",
       "\t<dt>$transactions</dt>\n",
       "\t\t<dd><table>\n",
       "<thead><tr><th scope=col>timestamp</th><th scope=col>from_account</th><th scope=col>to_account</th><th scope=col>amount</th></tr></thead>\n",
       "<tbody>\n",
       "\t<tr><td>2018-08-09 20:26:17</td><td>Bob                </td><td>Alice              </td><td>900                </td></tr>\n",
       "</tbody>\n",
       "</table>\n",
       "</dd>\n",
       "\t<dt>$prev_hash</dt>\n",
       "\t\t<dd>'0d56153bd4db29ec35463cd746bf840a2d26569b5bdb2aa26f677fac14511928'</dd>\n",
       "\t<dt>$proof_of_work</dt>\n",
       "\t\t<dd>7975</dd>\n",
       "</dl>\n",
       "</li>\n",
       "\t<li><dl>\n",
       "\t<dt>$transactions</dt>\n",
       "\t\t<dd><table>\n",
       "<thead><tr><th scope=col>timestamp</th><th scope=col>from_account</th><th scope=col>to_account</th><th scope=col>amount</th></tr></thead>\n",
       "<tbody>\n",
       "\t<tr><td>2018-08-09 20:26:17</td><td>Alice              </td><td>Christie           </td><td>300                </td></tr>\n",
       "</tbody>\n",
       "</table>\n",
       "</dd>\n",
       "\t<dt>$prev_hash</dt>\n",
       "\t\t<dd>'cc03629965934a40e88d15c0f91a3776bd5c32bd766f58a54e10e0fa3bc7e800'</dd>\n",
       "\t<dt>$proof_of_work</dt>\n",
       "\t\t<dd>451</dd>\n",
       "</dl>\n",
       "</li>\n",
       "</ol>\n"
      ],
      "text/latex": [
       "\\begin{enumerate}\n",
       "\\item \\begin{description}\n",
       "\\item[\\$transactions] \\begin{tabular}{r|llll}\n",
       " timestamp & from\\_account & to\\_account & amount\\\\\n",
       "\\hline\n",
       "\t 2018-08-09 20:26:08 & Genesis Endownment  & Bob                 & 2000               \\\\\n",
       "\\end{tabular}\n",
       "\n",
       "\\item[\\$prev\\_hash] NULL\n",
       "\\item[\\$proof\\_of\\_work] 0\n",
       "\\end{description}\n",
       "\n",
       "\\item \\begin{description}\n",
       "\\item[\\$transactions] \\begin{tabular}{r|llll}\n",
       " timestamp & from\\_account & to\\_account & amount\\\\\n",
       "\\hline\n",
       "\t 2018-08-09 20:26:17 & Bob                 & Alice               & 900                \\\\\n",
       "\\end{tabular}\n",
       "\n",
       "\\item[\\$prev\\_hash] '0d56153bd4db29ec35463cd746bf840a2d26569b5bdb2aa26f677fac14511928'\n",
       "\\item[\\$proof\\_of\\_work] 7975\n",
       "\\end{description}\n",
       "\n",
       "\\item \\begin{description}\n",
       "\\item[\\$transactions] \\begin{tabular}{r|llll}\n",
       " timestamp & from\\_account & to\\_account & amount\\\\\n",
       "\\hline\n",
       "\t 2018-08-09 20:26:17 & Alice               & Christie            & 300                \\\\\n",
       "\\end{tabular}\n",
       "\n",
       "\\item[\\$prev\\_hash] 'cc03629965934a40e88d15c0f91a3776bd5c32bd766f58a54e10e0fa3bc7e800'\n",
       "\\item[\\$proof\\_of\\_work] 451\n",
       "\\end{description}\n",
       "\n",
       "\\end{enumerate}\n"
      ],
      "text/markdown": [
       "1. $transactions\n",
       ":   \n",
       "timestamp | from_account | to_account | amount | \n",
       "|---|\n",
       "| 2018-08-09 20:26:08 | Genesis Endownment  | Bob                 | 2000                | \n",
       "\n",
       "\n",
       "\n",
       "$prev_hash\n",
       ":   NULL\n",
       "$proof_of_work\n",
       ":   0\n",
       "\n",
       "\n",
       "\n",
       "2. $transactions\n",
       ":   \n",
       "timestamp | from_account | to_account | amount | \n",
       "|---|\n",
       "| 2018-08-09 20:26:17 | Bob                 | Alice               | 900                 | \n",
       "\n",
       "\n",
       "\n",
       "$prev_hash\n",
       ":   '0d56153bd4db29ec35463cd746bf840a2d26569b5bdb2aa26f677fac14511928'\n",
       "$proof_of_work\n",
       ":   7975\n",
       "\n",
       "\n",
       "\n",
       "3. $transactions\n",
       ":   \n",
       "timestamp | from_account | to_account | amount | \n",
       "|---|\n",
       "| 2018-08-09 20:26:17 | Alice               | Christie            | 300                 | \n",
       "\n",
       "\n",
       "\n",
       "$prev_hash\n",
       ":   'cc03629965934a40e88d15c0f91a3776bd5c32bd766f58a54e10e0fa3bc7e800'\n",
       "$proof_of_work\n",
       ":   451\n",
       "\n",
       "\n",
       "\n",
       "\n",
       "\n"
      ],
      "text/plain": [
       "[[1]]\n",
       "[[1]]$transactions\n",
       "            timestamp       from_account to_account amount\n",
       "1 2018-08-09 20:26:08 Genesis Endownment        Bob   2000\n",
       "\n",
       "[[1]]$prev_hash\n",
       "NULL\n",
       "\n",
       "[[1]]$proof_of_work\n",
       "[1] 0\n",
       "\n",
       "\n",
       "[[2]]\n",
       "[[2]]$transactions\n",
       "            timestamp from_account to_account amount\n",
       "1 2018-08-09 20:26:17          Bob      Alice    900\n",
       "\n",
       "[[2]]$prev_hash\n",
       "[1] \"0d56153bd4db29ec35463cd746bf840a2d26569b5bdb2aa26f677fac14511928\"\n",
       "\n",
       "[[2]]$proof_of_work\n",
       "[1] 7975\n",
       "\n",
       "\n",
       "[[3]]\n",
       "[[3]]$transactions\n",
       "            timestamp from_account to_account amount\n",
       "1 2018-08-09 20:26:17        Alice   Christie    300\n",
       "\n",
       "[[3]]$prev_hash\n",
       "[1] \"cc03629965934a40e88d15c0f91a3776bd5c32bd766f58a54e10e0fa3bc7e800\"\n",
       "\n",
       "[[3]]$proof_of_work\n",
       "[1] 451\n",
       "\n"
      ]
     },
     "metadata": {},
     "output_type": "display_data"
    }
   ],
   "source": [
    "blockchain"
   ]
  },
  {
   "cell_type": "markdown",
   "metadata": {},
   "source": [
    "# Practice Problems\n",
    "Verify that the above proof of work (451) is correct?\n"
   ]
  },
  {
   "cell_type": "code",
   "execution_count": 37,
   "metadata": {},
   "outputs": [],
   "source": [
    "# Using the function digest, we want to see if the hash value \n",
    "# ends in three zeros."
   ]
  },
  {
   "cell_type": "markdown",
   "metadata": {},
   "source": [
    "Bob wants to transfer 500 to David. Is this a valid transaction/block? If yes, show the updated blockchain."
   ]
  },
  {
   "cell_type": "code",
   "execution_count": 38,
   "metadata": {},
   "outputs": [],
   "source": [
    "# Work on your answer here."
   ]
  },
  {
   "cell_type": "markdown",
   "metadata": {},
   "source": [
    "Alice wants to transfer 700 to Eric."
   ]
  },
  {
   "cell_type": "code",
   "execution_count": 39,
   "metadata": {},
   "outputs": [],
   "source": [
    "# Work on your answer here."
   ]
  }
 ],
 "metadata": {
  "kernelspec": {
   "display_name": "R",
   "language": "R",
   "name": "ir"
  },
  "language_info": {
   "codemirror_mode": "r",
   "file_extension": ".r",
   "mimetype": "text/x-r-source",
   "name": "R",
   "pygments_lexer": "r",
   "version": "3.4.1"
  }
 },
 "nbformat": 4,
 "nbformat_minor": 2
}
